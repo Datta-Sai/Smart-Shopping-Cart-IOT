{
 "cells": [
  {
   "cell_type": "code",
   "execution_count": 1,
   "id": "01e18340",
   "metadata": {},
   "outputs": [],
   "source": [
    "import pandas as pd\n",
    "import numpy as np\n",
    "import matplotlib.pyplot as plt\n",
    "%matplotlib inline\n",
    "import seaborn as sns\n",
    "\n",
    "#For modeling and preprocessing\n",
    "from sklearn.model_selection import train_test_split\n",
    "from sklearn.preprocessing import StandardScaler\n",
    "from sklearn.linear_model import LogisticRegression\n",
    "from sklearn.metrics import confusion_matrix, accuracy_score\n",
    "from matplotlib.colors import ListedColormap\n",
    "from sklearn.neighbors import KNeighborsClassifier\n",
    "from sklearn.naive_bayes import GaussianNB\n",
    "from sklearn.tree import DecisionTreeClassifier\n",
    "from sklearn.ensemble import RandomForestClassifier, RandomForestRegressor\n",
    "from sklearn.linear_model import RidgeClassifier\n",
    "from sklearn.svm import SVC\n",
    "from matplotlib.colors import ListedColormap\n",
    "from sklearn.metrics import recall_score,precision_score,f1_score,fbeta_score,classification_report\n",
    "from sklearn.preprocessing import LabelEncoder\n",
    "\n",
    "import warnings\n",
    "warnings.filterwarnings('ignore')\n",
    "\n",
    "#For modeling Ensembler\n",
    "from sklearn.ensemble import BaggingClassifier\n",
    "from sklearn.preprocessing import MinMaxScaler,StandardScaler\n",
    "from sklearn.metrics import accuracy_score,mean_squared_error, mean_absolute_error, r2_score,confusion_matrix\n",
    "from sklearn import tree\n",
    "from sklearn.ensemble import AdaBoostClassifier\n",
    "from sklearn.ensemble import GradientBoostingClassifier\n",
    "from sklearn.ensemble import ExtraTreesClassifier\n",
    "from sklearn.ensemble import VotingClassifier\n",
    "from sklearn.metrics import log_loss\n",
    "from sklearn.ensemble import VotingClassifier"
   ]
  },
  {
   "cell_type": "code",
   "execution_count": 2,
   "id": "1c891ab7",
   "metadata": {},
   "outputs": [
    {
     "data": {
      "text/html": [
       "<div>\n",
       "<style scoped>\n",
       "    .dataframe tbody tr th:only-of-type {\n",
       "        vertical-align: middle;\n",
       "    }\n",
       "\n",
       "    .dataframe tbody tr th {\n",
       "        vertical-align: top;\n",
       "    }\n",
       "\n",
       "    .dataframe thead th {\n",
       "        text-align: right;\n",
       "    }\n",
       "</style>\n",
       "<table border=\"1\" class=\"dataframe\">\n",
       "  <thead>\n",
       "    <tr style=\"text-align: right;\">\n",
       "      <th></th>\n",
       "      <th>device_id</th>\n",
       "      <th>Item_Name</th>\n",
       "      <th>Total_Price</th>\n",
       "      <th>Price_For_Item</th>\n",
       "      <th>Quantity</th>\n",
       "    </tr>\n",
       "  </thead>\n",
       "  <tbody>\n",
       "    <tr>\n",
       "      <th>0</th>\n",
       "      <td>esp32</td>\n",
       "      <td>Wheat 1kg</td>\n",
       "      <td>695</td>\n",
       "      <td>55</td>\n",
       "      <td>7</td>\n",
       "    </tr>\n",
       "    <tr>\n",
       "      <th>1</th>\n",
       "      <td>esp32</td>\n",
       "      <td></td>\n",
       "      <td>0</td>\n",
       "      <td>0</td>\n",
       "      <td>0</td>\n",
       "    </tr>\n",
       "    <tr>\n",
       "      <th>2</th>\n",
       "      <td>esp32</td>\n",
       "      <td>Coca cola</td>\n",
       "      <td>295</td>\n",
       "      <td>40</td>\n",
       "      <td>3</td>\n",
       "    </tr>\n",
       "    <tr>\n",
       "      <th>3</th>\n",
       "      <td>esp32</td>\n",
       "      <td></td>\n",
       "      <td>0</td>\n",
       "      <td>0</td>\n",
       "      <td>0</td>\n",
       "    </tr>\n",
       "    <tr>\n",
       "      <th>4</th>\n",
       "      <td>esp32</td>\n",
       "      <td></td>\n",
       "      <td>0</td>\n",
       "      <td>0</td>\n",
       "      <td>0</td>\n",
       "    </tr>\n",
       "    <tr>\n",
       "      <th>...</th>\n",
       "      <td>...</td>\n",
       "      <td>...</td>\n",
       "      <td>...</td>\n",
       "      <td>...</td>\n",
       "      <td>...</td>\n",
       "    </tr>\n",
       "    <tr>\n",
       "      <th>553</th>\n",
       "      <td>esp32</td>\n",
       "      <td>apples</td>\n",
       "      <td>230</td>\n",
       "      <td>40</td>\n",
       "      <td>1</td>\n",
       "    </tr>\n",
       "    <tr>\n",
       "      <th>554</th>\n",
       "      <td>esp32</td>\n",
       "      <td></td>\n",
       "      <td>0</td>\n",
       "      <td>0</td>\n",
       "      <td>0</td>\n",
       "    </tr>\n",
       "    <tr>\n",
       "      <th>555</th>\n",
       "      <td>esp32</td>\n",
       "      <td>Biscuit</td>\n",
       "      <td>310</td>\n",
       "      <td>30</td>\n",
       "      <td>1</td>\n",
       "    </tr>\n",
       "    <tr>\n",
       "      <th>556</th>\n",
       "      <td>esp32</td>\n",
       "      <td></td>\n",
       "      <td>0</td>\n",
       "      <td>0</td>\n",
       "      <td>0</td>\n",
       "    </tr>\n",
       "    <tr>\n",
       "      <th>557</th>\n",
       "      <td>esp32</td>\n",
       "      <td></td>\n",
       "      <td>0</td>\n",
       "      <td>0</td>\n",
       "      <td>0</td>\n",
       "    </tr>\n",
       "  </tbody>\n",
       "</table>\n",
       "<p>558 rows × 5 columns</p>\n",
       "</div>"
      ],
      "text/plain": [
       "    device_id    Item_Name  Total_Price  Price_For_Item  Quantity\n",
       "0       esp32   Wheat 1kg           695              55         7\n",
       "1       esp32                         0               0         0\n",
       "2       esp32   Coca cola           295              40         3\n",
       "3       esp32                         0               0         0\n",
       "4       esp32                         0               0         0\n",
       "..        ...          ...          ...             ...       ...\n",
       "553     esp32      apples           230              40         1\n",
       "554     esp32                         0               0         0\n",
       "555     esp32     Biscuit           310              30         1\n",
       "556     esp32                         0               0         0\n",
       "557     esp32                         0               0         0\n",
       "\n",
       "[558 rows x 5 columns]"
      ]
     },
     "execution_count": 2,
     "metadata": {},
     "output_type": "execute_result"
    }
   ],
   "source": [
    "df = pd.read_csv('Shopping_cart.csv')\n",
    "df"
   ]
  },
  {
   "cell_type": "markdown",
   "id": "536a99e5",
   "metadata": {},
   "source": [
    "## EXPLORATORY DATA ANALYSIS"
   ]
  },
  {
   "cell_type": "code",
   "execution_count": 3,
   "id": "ee7b4695",
   "metadata": {},
   "outputs": [
    {
     "data": {
      "text/plain": [
       "(558, 5)"
      ]
     },
     "execution_count": 3,
     "metadata": {},
     "output_type": "execute_result"
    }
   ],
   "source": [
    "df.shape"
   ]
  },
  {
   "cell_type": "code",
   "execution_count": 4,
   "id": "a6959c73",
   "metadata": {},
   "outputs": [
    {
     "name": "stdout",
     "output_type": "stream",
     "text": [
      "<class 'pandas.core.frame.DataFrame'>\n",
      "RangeIndex: 558 entries, 0 to 557\n",
      "Data columns (total 5 columns):\n",
      " #   Column          Non-Null Count  Dtype \n",
      "---  ------          --------------  ----- \n",
      " 0   device_id       558 non-null    object\n",
      " 1   Item_Name       558 non-null    object\n",
      " 2   Total_Price     558 non-null    int64 \n",
      " 3   Price_For_Item  558 non-null    int64 \n",
      " 4   Quantity        558 non-null    int64 \n",
      "dtypes: int64(3), object(2)\n",
      "memory usage: 21.9+ KB\n"
     ]
    }
   ],
   "source": [
    "df.info()"
   ]
  },
  {
   "cell_type": "code",
   "execution_count": 5,
   "id": "a4531b17",
   "metadata": {},
   "outputs": [
    {
     "data": {
      "text/html": [
       "<div>\n",
       "<style scoped>\n",
       "    .dataframe tbody tr th:only-of-type {\n",
       "        vertical-align: middle;\n",
       "    }\n",
       "\n",
       "    .dataframe tbody tr th {\n",
       "        vertical-align: top;\n",
       "    }\n",
       "\n",
       "    .dataframe thead th {\n",
       "        text-align: right;\n",
       "    }\n",
       "</style>\n",
       "<table border=\"1\" class=\"dataframe\">\n",
       "  <thead>\n",
       "    <tr style=\"text-align: right;\">\n",
       "      <th></th>\n",
       "      <th>Total_Price</th>\n",
       "      <th>Price_For_Item</th>\n",
       "      <th>Quantity</th>\n",
       "    </tr>\n",
       "  </thead>\n",
       "  <tbody>\n",
       "    <tr>\n",
       "      <th>count</th>\n",
       "      <td>558.000000</td>\n",
       "      <td>558.000000</td>\n",
       "      <td>558.000000</td>\n",
       "    </tr>\n",
       "    <tr>\n",
       "      <th>mean</th>\n",
       "      <td>230.098566</td>\n",
       "      <td>43.198925</td>\n",
       "      <td>1.017921</td>\n",
       "    </tr>\n",
       "    <tr>\n",
       "      <th>std</th>\n",
       "      <td>288.420043</td>\n",
       "      <td>63.841210</td>\n",
       "      <td>1.400065</td>\n",
       "    </tr>\n",
       "    <tr>\n",
       "      <th>min</th>\n",
       "      <td>0.000000</td>\n",
       "      <td>0.000000</td>\n",
       "      <td>0.000000</td>\n",
       "    </tr>\n",
       "    <tr>\n",
       "      <th>25%</th>\n",
       "      <td>0.000000</td>\n",
       "      <td>0.000000</td>\n",
       "      <td>0.000000</td>\n",
       "    </tr>\n",
       "    <tr>\n",
       "      <th>50%</th>\n",
       "      <td>80.000000</td>\n",
       "      <td>30.000000</td>\n",
       "      <td>0.000000</td>\n",
       "    </tr>\n",
       "    <tr>\n",
       "      <th>75%</th>\n",
       "      <td>395.000000</td>\n",
       "      <td>55.000000</td>\n",
       "      <td>2.000000</td>\n",
       "    </tr>\n",
       "    <tr>\n",
       "      <th>max</th>\n",
       "      <td>1195.000000</td>\n",
       "      <td>200.000000</td>\n",
       "      <td>7.000000</td>\n",
       "    </tr>\n",
       "  </tbody>\n",
       "</table>\n",
       "</div>"
      ],
      "text/plain": [
       "       Total_Price  Price_For_Item    Quantity\n",
       "count   558.000000      558.000000  558.000000\n",
       "mean    230.098566       43.198925    1.017921\n",
       "std     288.420043       63.841210    1.400065\n",
       "min       0.000000        0.000000    0.000000\n",
       "25%       0.000000        0.000000    0.000000\n",
       "50%      80.000000       30.000000    0.000000\n",
       "75%     395.000000       55.000000    2.000000\n",
       "max    1195.000000      200.000000    7.000000"
      ]
     },
     "execution_count": 5,
     "metadata": {},
     "output_type": "execute_result"
    }
   ],
   "source": [
    "df.describe()"
   ]
  },
  {
   "cell_type": "code",
   "execution_count": 6,
   "id": "106805c2",
   "metadata": {},
   "outputs": [
    {
     "data": {
      "text/html": [
       "<div>\n",
       "<style scoped>\n",
       "    .dataframe tbody tr th:only-of-type {\n",
       "        vertical-align: middle;\n",
       "    }\n",
       "\n",
       "    .dataframe tbody tr th {\n",
       "        vertical-align: top;\n",
       "    }\n",
       "\n",
       "    .dataframe thead th {\n",
       "        text-align: right;\n",
       "    }\n",
       "</style>\n",
       "<table border=\"1\" class=\"dataframe\">\n",
       "  <thead>\n",
       "    <tr style=\"text-align: right;\">\n",
       "      <th></th>\n",
       "      <th>device_id</th>\n",
       "      <th>Item_Name</th>\n",
       "      <th>Total_Price</th>\n",
       "      <th>Price_For_Item</th>\n",
       "      <th>Quantity</th>\n",
       "    </tr>\n",
       "  </thead>\n",
       "  <tbody>\n",
       "    <tr>\n",
       "      <th>0</th>\n",
       "      <td>esp32</td>\n",
       "      <td>Wheat 1kg</td>\n",
       "      <td>695</td>\n",
       "      <td>55</td>\n",
       "      <td>7</td>\n",
       "    </tr>\n",
       "    <tr>\n",
       "      <th>1</th>\n",
       "      <td>esp32</td>\n",
       "      <td></td>\n",
       "      <td>0</td>\n",
       "      <td>0</td>\n",
       "      <td>0</td>\n",
       "    </tr>\n",
       "    <tr>\n",
       "      <th>2</th>\n",
       "      <td>esp32</td>\n",
       "      <td>Coca cola</td>\n",
       "      <td>295</td>\n",
       "      <td>40</td>\n",
       "      <td>3</td>\n",
       "    </tr>\n",
       "    <tr>\n",
       "      <th>5</th>\n",
       "      <td>esp32</td>\n",
       "      <td>Wheat 1kg</td>\n",
       "      <td>375</td>\n",
       "      <td>55</td>\n",
       "      <td>1</td>\n",
       "    </tr>\n",
       "    <tr>\n",
       "      <th>6</th>\n",
       "      <td>esp32</td>\n",
       "      <td>Earphones</td>\n",
       "      <td>365</td>\n",
       "      <td>200</td>\n",
       "      <td>1</td>\n",
       "    </tr>\n",
       "    <tr>\n",
       "      <th>...</th>\n",
       "      <td>...</td>\n",
       "      <td>...</td>\n",
       "      <td>...</td>\n",
       "      <td>...</td>\n",
       "      <td>...</td>\n",
       "    </tr>\n",
       "    <tr>\n",
       "      <th>527</th>\n",
       "      <td>esp32</td>\n",
       "      <td>Wheat 1kg</td>\n",
       "      <td>610</td>\n",
       "      <td>55</td>\n",
       "      <td>6</td>\n",
       "    </tr>\n",
       "    <tr>\n",
       "      <th>537</th>\n",
       "      <td>esp32</td>\n",
       "      <td>Wheat 1kg</td>\n",
       "      <td>880</td>\n",
       "      <td>55</td>\n",
       "      <td>0</td>\n",
       "    </tr>\n",
       "    <tr>\n",
       "      <th>545</th>\n",
       "      <td>esp32</td>\n",
       "      <td>Wheat 1kg</td>\n",
       "      <td>340</td>\n",
       "      <td>55</td>\n",
       "      <td>4</td>\n",
       "    </tr>\n",
       "    <tr>\n",
       "      <th>549</th>\n",
       "      <td>esp32</td>\n",
       "      <td>Wheat 1kg</td>\n",
       "      <td>395</td>\n",
       "      <td>55</td>\n",
       "      <td>3</td>\n",
       "    </tr>\n",
       "    <tr>\n",
       "      <th>550</th>\n",
       "      <td>esp32</td>\n",
       "      <td>Wheat 1kg</td>\n",
       "      <td>305</td>\n",
       "      <td>55</td>\n",
       "      <td>3</td>\n",
       "    </tr>\n",
       "  </tbody>\n",
       "</table>\n",
       "<p>166 rows × 5 columns</p>\n",
       "</div>"
      ],
      "text/plain": [
       "    device_id    Item_Name  Total_Price  Price_For_Item  Quantity\n",
       "0       esp32   Wheat 1kg           695              55         7\n",
       "1       esp32                         0               0         0\n",
       "2       esp32   Coca cola           295              40         3\n",
       "5       esp32   Wheat 1kg           375              55         1\n",
       "6       esp32   Earphones           365             200         1\n",
       "..        ...          ...          ...             ...       ...\n",
       "527     esp32   Wheat 1kg           610              55         6\n",
       "537     esp32   Wheat 1kg           880              55         0\n",
       "545     esp32   Wheat 1kg           340              55         4\n",
       "549     esp32   Wheat 1kg           395              55         3\n",
       "550     esp32   Wheat 1kg           305              55         3\n",
       "\n",
       "[166 rows x 5 columns]"
      ]
     },
     "execution_count": 6,
     "metadata": {},
     "output_type": "execute_result"
    }
   ],
   "source": [
    "df = df.drop_duplicates()\n",
    "df"
   ]
  },
  {
   "cell_type": "code",
   "execution_count": 7,
   "id": "33af6f86",
   "metadata": {},
   "outputs": [
    {
     "data": {
      "text/html": [
       "<div>\n",
       "<style scoped>\n",
       "    .dataframe tbody tr th:only-of-type {\n",
       "        vertical-align: middle;\n",
       "    }\n",
       "\n",
       "    .dataframe tbody tr th {\n",
       "        vertical-align: top;\n",
       "    }\n",
       "\n",
       "    .dataframe thead th {\n",
       "        text-align: right;\n",
       "    }\n",
       "</style>\n",
       "<table border=\"1\" class=\"dataframe\">\n",
       "  <thead>\n",
       "    <tr style=\"text-align: right;\">\n",
       "      <th></th>\n",
       "      <th>Total_Price</th>\n",
       "      <th>Price_For_Item</th>\n",
       "      <th>Quantity</th>\n",
       "    </tr>\n",
       "  </thead>\n",
       "  <tbody>\n",
       "    <tr>\n",
       "      <th>count</th>\n",
       "      <td>166.000000</td>\n",
       "      <td>166.000000</td>\n",
       "      <td>166.000000</td>\n",
       "    </tr>\n",
       "    <tr>\n",
       "      <th>mean</th>\n",
       "      <td>465.391566</td>\n",
       "      <td>75.632530</td>\n",
       "      <td>1.969880</td>\n",
       "    </tr>\n",
       "    <tr>\n",
       "      <th>std</th>\n",
       "      <td>271.060762</td>\n",
       "      <td>65.141272</td>\n",
       "      <td>1.394468</td>\n",
       "    </tr>\n",
       "    <tr>\n",
       "      <th>min</th>\n",
       "      <td>0.000000</td>\n",
       "      <td>0.000000</td>\n",
       "      <td>0.000000</td>\n",
       "    </tr>\n",
       "    <tr>\n",
       "      <th>25%</th>\n",
       "      <td>295.000000</td>\n",
       "      <td>40.000000</td>\n",
       "      <td>1.000000</td>\n",
       "    </tr>\n",
       "    <tr>\n",
       "      <th>50%</th>\n",
       "      <td>395.000000</td>\n",
       "      <td>40.000000</td>\n",
       "      <td>2.000000</td>\n",
       "    </tr>\n",
       "    <tr>\n",
       "      <th>75%</th>\n",
       "      <td>610.000000</td>\n",
       "      <td>55.000000</td>\n",
       "      <td>3.000000</td>\n",
       "    </tr>\n",
       "    <tr>\n",
       "      <th>max</th>\n",
       "      <td>1195.000000</td>\n",
       "      <td>200.000000</td>\n",
       "      <td>7.000000</td>\n",
       "    </tr>\n",
       "  </tbody>\n",
       "</table>\n",
       "</div>"
      ],
      "text/plain": [
       "       Total_Price  Price_For_Item    Quantity\n",
       "count   166.000000      166.000000  166.000000\n",
       "mean    465.391566       75.632530    1.969880\n",
       "std     271.060762       65.141272    1.394468\n",
       "min       0.000000        0.000000    0.000000\n",
       "25%     295.000000       40.000000    1.000000\n",
       "50%     395.000000       40.000000    2.000000\n",
       "75%     610.000000       55.000000    3.000000\n",
       "max    1195.000000      200.000000    7.000000"
      ]
     },
     "execution_count": 7,
     "metadata": {},
     "output_type": "execute_result"
    }
   ],
   "source": [
    "df.describe()"
   ]
  },
  {
   "cell_type": "code",
   "execution_count": 8,
   "id": "a1a37af8",
   "metadata": {},
   "outputs": [
    {
     "data": {
      "text/plain": [
       "device_id         0\n",
       "Item_Name         0\n",
       "Total_Price       0\n",
       "Price_For_Item    0\n",
       "Quantity          0\n",
       "dtype: int64"
      ]
     },
     "execution_count": 8,
     "metadata": {},
     "output_type": "execute_result"
    }
   ],
   "source": [
    "df.isnull().sum()"
   ]
  },
  {
   "cell_type": "code",
   "execution_count": 9,
   "id": "47ea7358",
   "metadata": {},
   "outputs": [
    {
     "data": {
      "text/plain": [
       "device_id           1\n",
       "Item_Name           6\n",
       "Total_Price       106\n",
       "Price_For_Item      5\n",
       "Quantity            8\n",
       "dtype: int64"
      ]
     },
     "execution_count": 9,
     "metadata": {},
     "output_type": "execute_result"
    }
   ],
   "source": [
    "df.nunique() "
   ]
  },
  {
   "cell_type": "code",
   "execution_count": 10,
   "id": "3b2bbd5a",
   "metadata": {},
   "outputs": [
    {
     "data": {
      "text/plain": [
       "0"
      ]
     },
     "execution_count": 10,
     "metadata": {},
     "output_type": "execute_result"
    }
   ],
   "source": [
    "df.duplicated().sum()"
   ]
  },
  {
   "cell_type": "code",
   "execution_count": 11,
   "id": "362ffb77",
   "metadata": {},
   "outputs": [
    {
     "data": {
      "text/html": [
       "<div>\n",
       "<style scoped>\n",
       "    .dataframe tbody tr th:only-of-type {\n",
       "        vertical-align: middle;\n",
       "    }\n",
       "\n",
       "    .dataframe tbody tr th {\n",
       "        vertical-align: top;\n",
       "    }\n",
       "\n",
       "    .dataframe thead th {\n",
       "        text-align: right;\n",
       "    }\n",
       "</style>\n",
       "<table border=\"1\" class=\"dataframe\">\n",
       "  <thead>\n",
       "    <tr style=\"text-align: right;\">\n",
       "      <th></th>\n",
       "      <th>device_id</th>\n",
       "      <th>Item_Name</th>\n",
       "      <th>Total_Price</th>\n",
       "      <th>Price_For_Item</th>\n",
       "      <th>Quantity</th>\n",
       "    </tr>\n",
       "  </thead>\n",
       "  <tbody>\n",
       "    <tr>\n",
       "      <th>0</th>\n",
       "      <td>esp32</td>\n",
       "      <td>Wheat 1kg</td>\n",
       "      <td>695</td>\n",
       "      <td>55</td>\n",
       "      <td>7</td>\n",
       "    </tr>\n",
       "    <tr>\n",
       "      <th>1</th>\n",
       "      <td>esp32</td>\n",
       "      <td></td>\n",
       "      <td>0</td>\n",
       "      <td>0</td>\n",
       "      <td>0</td>\n",
       "    </tr>\n",
       "    <tr>\n",
       "      <th>2</th>\n",
       "      <td>esp32</td>\n",
       "      <td>Coca cola</td>\n",
       "      <td>295</td>\n",
       "      <td>40</td>\n",
       "      <td>3</td>\n",
       "    </tr>\n",
       "    <tr>\n",
       "      <th>5</th>\n",
       "      <td>esp32</td>\n",
       "      <td>Wheat 1kg</td>\n",
       "      <td>375</td>\n",
       "      <td>55</td>\n",
       "      <td>1</td>\n",
       "    </tr>\n",
       "    <tr>\n",
       "      <th>6</th>\n",
       "      <td>esp32</td>\n",
       "      <td>Earphones</td>\n",
       "      <td>365</td>\n",
       "      <td>200</td>\n",
       "      <td>1</td>\n",
       "    </tr>\n",
       "  </tbody>\n",
       "</table>\n",
       "</div>"
      ],
      "text/plain": [
       "  device_id    Item_Name  Total_Price  Price_For_Item  Quantity\n",
       "0     esp32   Wheat 1kg           695              55         7\n",
       "1     esp32                         0               0         0\n",
       "2     esp32   Coca cola           295              40         3\n",
       "5     esp32   Wheat 1kg           375              55         1\n",
       "6     esp32   Earphones           365             200         1"
      ]
     },
     "execution_count": 11,
     "metadata": {},
     "output_type": "execute_result"
    }
   ],
   "source": [
    "df.drop(columns=[],inplace=True) \n",
    "df.head()"
   ]
  },
  {
   "cell_type": "markdown",
   "id": "6602ac6e",
   "metadata": {},
   "source": [
    " ## Pre-Processing and Feature Engineering"
   ]
  },
  {
   "cell_type": "code",
   "execution_count": 12,
   "id": "3c7258da",
   "metadata": {},
   "outputs": [
    {
     "data": {
      "text/html": [
       "<div>\n",
       "<style scoped>\n",
       "    .dataframe tbody tr th:only-of-type {\n",
       "        vertical-align: middle;\n",
       "    }\n",
       "\n",
       "    .dataframe tbody tr th {\n",
       "        vertical-align: top;\n",
       "    }\n",
       "\n",
       "    .dataframe thead th {\n",
       "        text-align: right;\n",
       "    }\n",
       "</style>\n",
       "<table border=\"1\" class=\"dataframe\">\n",
       "  <thead>\n",
       "    <tr style=\"text-align: right;\">\n",
       "      <th></th>\n",
       "      <th>device_id</th>\n",
       "      <th>Item_Name</th>\n",
       "      <th>Total_Price</th>\n",
       "      <th>Price_For_Item</th>\n",
       "      <th>Quantity</th>\n",
       "    </tr>\n",
       "  </thead>\n",
       "  <tbody>\n",
       "    <tr>\n",
       "      <th>0</th>\n",
       "      <td>esp32</td>\n",
       "      <td>Wheat 1kg</td>\n",
       "      <td>695.0</td>\n",
       "      <td>55</td>\n",
       "      <td>7</td>\n",
       "    </tr>\n",
       "    <tr>\n",
       "      <th>2</th>\n",
       "      <td>esp32</td>\n",
       "      <td>Coca cola</td>\n",
       "      <td>295.0</td>\n",
       "      <td>40</td>\n",
       "      <td>3</td>\n",
       "    </tr>\n",
       "    <tr>\n",
       "      <th>5</th>\n",
       "      <td>esp32</td>\n",
       "      <td>Wheat 1kg</td>\n",
       "      <td>375.0</td>\n",
       "      <td>55</td>\n",
       "      <td>1</td>\n",
       "    </tr>\n",
       "    <tr>\n",
       "      <th>6</th>\n",
       "      <td>esp32</td>\n",
       "      <td>Earphones</td>\n",
       "      <td>365.0</td>\n",
       "      <td>200</td>\n",
       "      <td>1</td>\n",
       "    </tr>\n",
       "    <tr>\n",
       "      <th>7</th>\n",
       "      <td>esp32</td>\n",
       "      <td>Biscuit</td>\n",
       "      <td>85.0</td>\n",
       "      <td>30</td>\n",
       "      <td>1</td>\n",
       "    </tr>\n",
       "    <tr>\n",
       "      <th>...</th>\n",
       "      <td>...</td>\n",
       "      <td>...</td>\n",
       "      <td>...</td>\n",
       "      <td>...</td>\n",
       "      <td>...</td>\n",
       "    </tr>\n",
       "    <tr>\n",
       "      <th>527</th>\n",
       "      <td>esp32</td>\n",
       "      <td>Wheat 1kg</td>\n",
       "      <td>610.0</td>\n",
       "      <td>55</td>\n",
       "      <td>6</td>\n",
       "    </tr>\n",
       "    <tr>\n",
       "      <th>537</th>\n",
       "      <td>esp32</td>\n",
       "      <td>Wheat 1kg</td>\n",
       "      <td>880.0</td>\n",
       "      <td>55</td>\n",
       "      <td>0</td>\n",
       "    </tr>\n",
       "    <tr>\n",
       "      <th>545</th>\n",
       "      <td>esp32</td>\n",
       "      <td>Wheat 1kg</td>\n",
       "      <td>340.0</td>\n",
       "      <td>55</td>\n",
       "      <td>4</td>\n",
       "    </tr>\n",
       "    <tr>\n",
       "      <th>549</th>\n",
       "      <td>esp32</td>\n",
       "      <td>Wheat 1kg</td>\n",
       "      <td>395.0</td>\n",
       "      <td>55</td>\n",
       "      <td>3</td>\n",
       "    </tr>\n",
       "    <tr>\n",
       "      <th>550</th>\n",
       "      <td>esp32</td>\n",
       "      <td>Wheat 1kg</td>\n",
       "      <td>305.0</td>\n",
       "      <td>55</td>\n",
       "      <td>3</td>\n",
       "    </tr>\n",
       "  </tbody>\n",
       "</table>\n",
       "<p>165 rows × 5 columns</p>\n",
       "</div>"
      ],
      "text/plain": [
       "    device_id    Item_Name  Total_Price  Price_For_Item  Quantity\n",
       "0       esp32   Wheat 1kg         695.0              55         7\n",
       "2       esp32   Coca cola         295.0              40         3\n",
       "5       esp32   Wheat 1kg         375.0              55         1\n",
       "6       esp32   Earphones         365.0             200         1\n",
       "7       esp32     Biscuit          85.0              30         1\n",
       "..        ...          ...          ...             ...       ...\n",
       "527     esp32   Wheat 1kg         610.0              55         6\n",
       "537     esp32   Wheat 1kg         880.0              55         0\n",
       "545     esp32   Wheat 1kg         340.0              55         4\n",
       "549     esp32   Wheat 1kg         395.0              55         3\n",
       "550     esp32   Wheat 1kg         305.0              55         3\n",
       "\n",
       "[165 rows x 5 columns]"
      ]
     },
     "execution_count": 12,
     "metadata": {},
     "output_type": "execute_result"
    }
   ],
   "source": [
    "df = df[df['Total_Price'] != 0]\n",
    "df['Total_Price'] = df['Total_Price'].astype(float) #converting the object to float\n",
    "df"
   ]
  },
  {
   "cell_type": "code",
   "execution_count": 13,
   "id": "f50128b3",
   "metadata": {},
   "outputs": [
    {
     "name": "stdout",
     "output_type": "stream",
     "text": [
      "Old Shape:  (165, 5)\n",
      "New Shape:  (165, 5)\n"
     ]
    }
   ],
   "source": [
    "#remove outliners\n",
    "def remove_outlier(df_in, col_name):\n",
    "    df[col_name] = df[col_name].astype(int)\n",
    "    q1 = df_in[col_name].quantile(0.25)\n",
    "    q3 = df_in[col_name].quantile(0.75)\n",
    "    iqr = q3-q1 #Interquartile range\n",
    "    fence_low  = q1-1.5*iqr\n",
    "    fence_high = q3+1.5*iqr\n",
    "    df_out = df_in.loc[(df_in[col_name] > fence_low) & (df_in[col_name] < fence_high)]\n",
    "    return df_out\n",
    "\n",
    "print(\"Old Shape: \", df.shape)\n",
    "\n",
    "for col in df:\n",
    "  if col!='device_id':\n",
    "    #df=remove_outlier(df, col)\n",
    "    continue\n",
    "print(\"New Shape: \", df.shape)"
   ]
  },
  {
   "cell_type": "code",
   "execution_count": 14,
   "id": "38114b4f",
   "metadata": {},
   "outputs": [
    {
     "data": {
      "text/html": [
       "<div>\n",
       "<style scoped>\n",
       "    .dataframe tbody tr th:only-of-type {\n",
       "        vertical-align: middle;\n",
       "    }\n",
       "\n",
       "    .dataframe tbody tr th {\n",
       "        vertical-align: top;\n",
       "    }\n",
       "\n",
       "    .dataframe thead th {\n",
       "        text-align: right;\n",
       "    }\n",
       "</style>\n",
       "<table border=\"1\" class=\"dataframe\">\n",
       "  <thead>\n",
       "    <tr style=\"text-align: right;\">\n",
       "      <th></th>\n",
       "      <th>device_id</th>\n",
       "      <th>Item_Name</th>\n",
       "      <th>Total_Price</th>\n",
       "      <th>Price_For_Item</th>\n",
       "      <th>Quantity</th>\n",
       "    </tr>\n",
       "  </thead>\n",
       "  <tbody>\n",
       "    <tr>\n",
       "      <th>0</th>\n",
       "      <td>esp32</td>\n",
       "      <td>Wheat 1kg</td>\n",
       "      <td>695.0</td>\n",
       "      <td>55</td>\n",
       "      <td>7</td>\n",
       "    </tr>\n",
       "    <tr>\n",
       "      <th>2</th>\n",
       "      <td>esp32</td>\n",
       "      <td>Coca cola</td>\n",
       "      <td>295.0</td>\n",
       "      <td>40</td>\n",
       "      <td>3</td>\n",
       "    </tr>\n",
       "    <tr>\n",
       "      <th>5</th>\n",
       "      <td>esp32</td>\n",
       "      <td>Wheat 1kg</td>\n",
       "      <td>375.0</td>\n",
       "      <td>55</td>\n",
       "      <td>1</td>\n",
       "    </tr>\n",
       "    <tr>\n",
       "      <th>6</th>\n",
       "      <td>esp32</td>\n",
       "      <td>Earphones</td>\n",
       "      <td>365.0</td>\n",
       "      <td>200</td>\n",
       "      <td>1</td>\n",
       "    </tr>\n",
       "    <tr>\n",
       "      <th>7</th>\n",
       "      <td>esp32</td>\n",
       "      <td>Biscuit</td>\n",
       "      <td>85.0</td>\n",
       "      <td>30</td>\n",
       "      <td>1</td>\n",
       "    </tr>\n",
       "  </tbody>\n",
       "</table>\n",
       "</div>"
      ],
      "text/plain": [
       "  device_id    Item_Name  Total_Price  Price_For_Item  Quantity\n",
       "0     esp32   Wheat 1kg         695.0              55         7\n",
       "2     esp32   Coca cola         295.0              40         3\n",
       "5     esp32   Wheat 1kg         375.0              55         1\n",
       "6     esp32   Earphones         365.0             200         1\n",
       "7     esp32     Biscuit          85.0              30         1"
      ]
     },
     "execution_count": 14,
     "metadata": {},
     "output_type": "execute_result"
    }
   ],
   "source": [
    "#filing empty cells\n",
    "for col in df:\n",
    "  if df.dtypes[col]is not int:\n",
    "    df[col].fillna(df[col].mode(), inplace = True)\n",
    "  else:\n",
    "    df[col].fillna(df[col].median(), inplace = True)\n",
    "df.head()"
   ]
  },
  {
   "cell_type": "code",
   "execution_count": 15,
   "id": "46b4936f",
   "metadata": {},
   "outputs": [
    {
     "data": {
      "text/plain": [
       "<AxesSubplot:>"
      ]
     },
     "execution_count": 15,
     "metadata": {},
     "output_type": "execute_result"
    },
    {
     "data": {
      "image/png": "[encoded data removed]",
      "text/plain": [
       "<Figure size 432x288 with 2 Axes>"
      ]
     },
     "metadata": {
      "needs_background": "light"
     },
     "output_type": "display_data"
    }
   ],
   "source": [
    "sns.heatmap(df.corr(),annot = True) #heat map"
   ]
  },
  {
   "cell_type": "markdown",
   "id": "7ef795e5",
   "metadata": {},
   "source": [
    "## Visualization"
   ]
  },
  {
   "cell_type": "code",
   "execution_count": 16,
   "id": "35ba9739",
   "metadata": {},
   "outputs": [
    {
     "data": {
      "text/plain": [
       "<AxesSubplot:xlabel='Total_Price', ylabel='Count'>"
      ]
     },
     "execution_count": 16,
     "metadata": {},
     "output_type": "execute_result"
    },
    {
     "data": {
      "image/png": "[encoded data removed]",
      "text/plain": [
       "<Figure size 432x288 with 1 Axes>"
      ]
     },
     "metadata": {
      "needs_background": "light"
     },
     "output_type": "display_data"
    }
   ],
   "source": [
    "sns.histplot(data = df, x = 'Total_Price', bins = 'auto')"
   ]
  },
  {
   "cell_type": "code",
   "execution_count": 17,
   "id": "4497e07f",
   "metadata": {},
   "outputs": [
    {
     "data": {
      "text/plain": [
       "<AxesSubplot:ylabel='Item_Name'>"
      ]
     },
     "execution_count": 17,
     "metadata": {},
     "output_type": "execute_result"
    },
    {
     "data": {
      "image/png": "[encoded data removed]",
      "text/plain": [
       "<Figure size 432x288 with 1 Axes>"
      ]
     },
     "metadata": {},
     "output_type": "display_data"
    }
   ],
   "source": [
    "df['Item_Name'].value_counts().head(10).plot.pie()\n",
    "import matplotlib.pyplot as plt\n",
    "plt.gca().set_aspect('equal')\n",
    "df['Item_Name'].value_counts().plot(kind='pie',autopct = \"%0.2f%%\")"
   ]
  },
  {
   "cell_type": "code",
   "execution_count": 18,
   "id": "0b8e370d",
   "metadata": {},
   "outputs": [
    {
     "data": {
      "text/plain": [
       "<AxesSubplot:xlabel='Total_Price', ylabel='Quantity'>"
      ]
     },
     "execution_count": 18,
     "metadata": {},
     "output_type": "execute_result"
    },
    {
     "data": {
      "image/png": "[encoded data removed]",
      "text/plain": [
       "<Figure size 432x288 with 1 Axes>"
      ]
     },
     "metadata": {
      "needs_background": "light"
     },
     "output_type": "display_data"
    }
   ],
   "source": [
    "sns.barplot(x='Total_Price',y='Quantity',data=df)"
   ]
  },
  {
   "cell_type": "code",
   "execution_count": 19,
   "id": "61043054",
   "metadata": {},
   "outputs": [
    {
     "data": {
      "text/plain": [
       "<AxesSubplot:xlabel='Total_Price', ylabel='Price_For_Item'>"
      ]
     },
     "execution_count": 19,
     "metadata": {},
     "output_type": "execute_result"
    },
    {
     "data": {
      "image/png": "[encoded data removed]",
      "text/plain": [
       "<Figure size 432x288 with 1 Axes>"
      ]
     },
     "metadata": {
      "needs_background": "light"
     },
     "output_type": "display_data"
    }
   ],
   "source": [
    "sns.scatterplot(data = df, x='Total_Price', y='Price_For_Item')"
   ]
  },
  {
   "cell_type": "code",
   "execution_count": 20,
   "id": "7d5c0cb4",
   "metadata": {},
   "outputs": [
    {
     "data": {
      "text/plain": [
       "<seaborn.axisgrid.FacetGrid at 0x1fc459ce5b0>"
      ]
     },
     "execution_count": 20,
     "metadata": {},
     "output_type": "execute_result"
    },
    {
     "data": {
      "image/png": "[encoded data removed]",
      "text/plain": [
       "<Figure size 440x432 with 1 Axes>"
      ]
     },
     "metadata": {
      "needs_background": "light"
     },
     "output_type": "display_data"
    }
   ],
   "source": [
    "sns.FacetGrid(df, height = 6).map(sns.kdeplot, 'Total_Price').add_legend()"
   ]
  },
  {
   "cell_type": "code",
   "execution_count": 21,
   "id": "fbeb6b8b",
   "metadata": {},
   "outputs": [
    {
     "data": {
      "image/png": "[encoded data removed]",
      "text/plain": [
       "<Figure size 720x432 with 1 Axes>"
      ]
     },
     "metadata": {
      "needs_background": "light"
     },
     "output_type": "display_data"
    }
   ],
   "source": [
    "plt.figure(figsize=(10, 6))\n",
    "sns.violinplot(data=df, x='Quantity', y='Total_Price')\n",
    "plt.ylabel('Total Price')\n",
    "plt.xlabel('Quantity')\n",
    "plt.title('Price Distribution based on Quantity')\n",
    "plt.show()"
   ]
  },
  {
   "cell_type": "code",
   "execution_count": 61,
   "id": "edabe66c",
   "metadata": {},
   "outputs": [
    {
     "data": {
      "image/png": "[encoded data removed]",
      "text/plain": [
       "<Figure size 432x288 with 1 Axes>"
      ]
     },
     "metadata": {
      "needs_background": "light"
     },
     "output_type": "display_data"
    }
   ],
   "source": [
    "sizes = np.random.randint(30, 70, 165)\n",
    "plt.scatter(df['Quantity'], df['Total_Price'], s=sizes, alpha=0.5)\n",
    "\n",
    "# Customize the chart\n",
    "plt.title('Bubble Chart')\n",
    "plt.xlabel('Quantity')\n",
    "plt.ylabel('Total_Price')\n",
    "plt.grid(True)\n",
    "\n",
    "# Show the chart\n",
    "plt.show()"
   ]
  },
  {
   "cell_type": "markdown",
   "id": "e34fd421",
   "metadata": {},
   "source": [
    "## Modelling"
   ]
  },
  {
   "cell_type": "code",
   "execution_count": 31,
   "id": "dfa3d3a2",
   "metadata": {},
   "outputs": [
    {
     "data": {
      "text/html": [
       "<div>\n",
       "<style scoped>\n",
       "    .dataframe tbody tr th:only-of-type {\n",
       "        vertical-align: middle;\n",
       "    }\n",
       "\n",
       "    .dataframe tbody tr th {\n",
       "        vertical-align: top;\n",
       "    }\n",
       "\n",
       "    .dataframe thead th {\n",
       "        text-align: right;\n",
       "    }\n",
       "</style>\n",
       "<table border=\"1\" class=\"dataframe\">\n",
       "  <thead>\n",
       "    <tr style=\"text-align: right;\">\n",
       "      <th></th>\n",
       "      <th>device_id</th>\n",
       "      <th>Item_Name</th>\n",
       "      <th>Total_Price</th>\n",
       "      <th>Price_For_Item</th>\n",
       "      <th>Quantity</th>\n",
       "    </tr>\n",
       "  </thead>\n",
       "  <tbody>\n",
       "    <tr>\n",
       "      <th>0</th>\n",
       "      <td>esp32</td>\n",
       "      <td>3</td>\n",
       "      <td>695.0</td>\n",
       "      <td>55</td>\n",
       "      <td>7</td>\n",
       "    </tr>\n",
       "    <tr>\n",
       "      <th>2</th>\n",
       "      <td>esp32</td>\n",
       "      <td>1</td>\n",
       "      <td>295.0</td>\n",
       "      <td>40</td>\n",
       "      <td>3</td>\n",
       "    </tr>\n",
       "    <tr>\n",
       "      <th>5</th>\n",
       "      <td>esp32</td>\n",
       "      <td>3</td>\n",
       "      <td>375.0</td>\n",
       "      <td>55</td>\n",
       "      <td>1</td>\n",
       "    </tr>\n",
       "    <tr>\n",
       "      <th>6</th>\n",
       "      <td>esp32</td>\n",
       "      <td>2</td>\n",
       "      <td>365.0</td>\n",
       "      <td>200</td>\n",
       "      <td>1</td>\n",
       "    </tr>\n",
       "    <tr>\n",
       "      <th>7</th>\n",
       "      <td>esp32</td>\n",
       "      <td>0</td>\n",
       "      <td>85.0</td>\n",
       "      <td>30</td>\n",
       "      <td>1</td>\n",
       "    </tr>\n",
       "    <tr>\n",
       "      <th>...</th>\n",
       "      <td>...</td>\n",
       "      <td>...</td>\n",
       "      <td>...</td>\n",
       "      <td>...</td>\n",
       "      <td>...</td>\n",
       "    </tr>\n",
       "    <tr>\n",
       "      <th>527</th>\n",
       "      <td>esp32</td>\n",
       "      <td>3</td>\n",
       "      <td>610.0</td>\n",
       "      <td>55</td>\n",
       "      <td>6</td>\n",
       "    </tr>\n",
       "    <tr>\n",
       "      <th>537</th>\n",
       "      <td>esp32</td>\n",
       "      <td>3</td>\n",
       "      <td>880.0</td>\n",
       "      <td>55</td>\n",
       "      <td>0</td>\n",
       "    </tr>\n",
       "    <tr>\n",
       "      <th>545</th>\n",
       "      <td>esp32</td>\n",
       "      <td>3</td>\n",
       "      <td>340.0</td>\n",
       "      <td>55</td>\n",
       "      <td>4</td>\n",
       "    </tr>\n",
       "    <tr>\n",
       "      <th>549</th>\n",
       "      <td>esp32</td>\n",
       "      <td>3</td>\n",
       "      <td>395.0</td>\n",
       "      <td>55</td>\n",
       "      <td>3</td>\n",
       "    </tr>\n",
       "    <tr>\n",
       "      <th>550</th>\n",
       "      <td>esp32</td>\n",
       "      <td>3</td>\n",
       "      <td>305.0</td>\n",
       "      <td>55</td>\n",
       "      <td>3</td>\n",
       "    </tr>\n",
       "  </tbody>\n",
       "</table>\n",
       "<p>165 rows × 5 columns</p>\n",
       "</div>"
      ],
      "text/plain": [
       "    device_id  Item_Name  Total_Price  Price_For_Item  Quantity\n",
       "0       esp32          3        695.0              55         7\n",
       "2       esp32          1        295.0              40         3\n",
       "5       esp32          3        375.0              55         1\n",
       "6       esp32          2        365.0             200         1\n",
       "7       esp32          0         85.0              30         1\n",
       "..        ...        ...          ...             ...       ...\n",
       "527     esp32          3        610.0              55         6\n",
       "537     esp32          3        880.0              55         0\n",
       "545     esp32          3        340.0              55         4\n",
       "549     esp32          3        395.0              55         3\n",
       "550     esp32          3        305.0              55         3\n",
       "\n",
       "[165 rows x 5 columns]"
      ]
     },
     "execution_count": 31,
     "metadata": {},
     "output_type": "execute_result"
    }
   ],
   "source": [
    "import pandas as pd\n",
    "from sklearn.preprocessing import LabelEncoder\n",
    "label_encoder = LabelEncoder()\n",
    "df['Item_Name'] = label_encoder.fit_transform(df['Item_Name'])\n",
    "\n",
    "df\n"
   ]
  },
  {
   "cell_type": "code",
   "execution_count": 32,
   "id": "0cdfdc02",
   "metadata": {},
   "outputs": [
    {
     "name": "stdout",
     "output_type": "stream",
     "text": [
      "(132, 3) (33, 3) (132,) (33,)\n"
     ]
    }
   ],
   "source": [
    "X = df.drop(['device_id','Quantity'], axis=1)\n",
    "y = df['Quantity']\n",
    "X_train, X_test, y_train, y_test = train_test_split(X, y, test_size = 0.2, random_state = 0)\n",
    "print(X_train.shape, X_test.shape, y_train.shape, y_test.shape)"
   ]
  },
  {
   "cell_type": "code",
   "execution_count": 33,
   "id": "7cd59045",
   "metadata": {},
   "outputs": [
    {
     "name": "stdout",
     "output_type": "stream",
     "text": [
      "     0  1  2  3  4\n",
      "0    0  0  0  1  0\n",
      "2    0  1  0  0  0\n",
      "5    0  0  0  1  0\n",
      "6    0  0  1  0  0\n",
      "7    1  0  0  0  0\n",
      "..  .. .. .. .. ..\n",
      "527  0  0  0  1  0\n",
      "537  0  0  0  1  0\n",
      "545  0  0  0  1  0\n",
      "549  0  0  0  1  0\n",
      "550  0  0  0  1  0\n",
      "\n",
      "[165 rows x 5 columns]\n"
     ]
    }
   ],
   "source": [
    "# Sample data\n",
    "data = df['Item_Name']\n",
    "\n",
    "\n",
    "encoded_data = pd.get_dummies(data, columns=['Item_Name'])\n",
    "\n",
    "print(encoded_data)"
   ]
  },
  {
   "cell_type": "code",
   "execution_count": 34,
   "id": "79505389",
   "metadata": {},
   "outputs": [
    {
     "data": {
      "text/plain": [
       "0.18181818181818182"
      ]
     },
     "execution_count": 34,
     "metadata": {},
     "output_type": "execute_result"
    }
   ],
   "source": [
    "# Initialize and train the model\n",
    "model = RandomForestClassifier()\n",
    "model.fit(X_train, y_train)\n",
    "# Make predictions on the testing data\n",
    "y_pred= model.predict(X_test)\n",
    "accuracy_score(y_test, y_pred)"
   ]
  },
  {
   "cell_type": "code",
   "execution_count": 35,
   "id": "a5574fe0",
   "metadata": {},
   "outputs": [],
   "source": [
    "sc = StandardScaler()\n",
    "X_train_scaled = sc.fit_transform(X_train)\n",
    "X_test_scaled  = sc.transform(X_test)"
   ]
  },
  {
   "cell_type": "code",
   "execution_count": 36,
   "id": "4e9fc657",
   "metadata": {},
   "outputs": [
    {
     "name": "stdout",
     "output_type": "stream",
     "text": [
      "Accuracy is 15.151515151515152\n"
     ]
    },
    {
     "data": {
      "image/png": "[encoded data removed]",
      "text/plain": [
       "<Figure size 432x288 with 2 Axes>"
      ]
     },
     "metadata": {
      "needs_background": "light"
     },
     "output_type": "display_data"
    }
   ],
   "source": [
    "from sklearn import tree\n",
    "\n",
    "classifier = tree.DecisionTreeClassifier()\n",
    "classifier.fit(X_train_scaled, y_train)\n",
    "y_pred = classifier.predict(X_test_scaled)\n",
    "cm=confusion_matrix(y_test,y_pred)\n",
    "plt.title(\"Confusion Matrix for Decision Tree\")\n",
    "sns.heatmap(cm, annot=True,fmt='d', cmap='Blues')\n",
    "plt.ylabel(\"Actual Values\")\n",
    "plt.xlabel(\"Predicted Values\")\n",
    "print(\"Accuracy is {}\".format(accuracy_score(y_test, y_pred)*100))"
   ]
  },
  {
   "cell_type": "code",
   "execution_count": 37,
   "id": "5cc9f45a",
   "metadata": {},
   "outputs": [
    {
     "name": "stdout",
     "output_type": "stream",
     "text": [
      "Accuracy is 12.121212121212121\n"
     ]
    },
    {
     "data": {
      "image/png": "[encoded data removed]",
      "text/plain": [
       "<Figure size 432x288 with 2 Axes>"
      ]
     },
     "metadata": {
      "needs_background": "light"
     },
     "output_type": "display_data"
    }
   ],
   "source": [
    "from sklearn import tree\n",
    "\n",
    "classifier = tree.DecisionTreeClassifier()\n",
    "classifier.fit(X_train_scaled, y_train)\n",
    "y_pred = classifier.predict(X_test_scaled)\n",
    "cm=confusion_matrix(y_test,y_pred)\n",
    "plt.title(\"Confusion Matrix for Decision Tree\")\n",
    "sns.heatmap(cm, annot=True,fmt='d', cmap='Blues')\n",
    "plt.ylabel(\"Actual Values\")\n",
    "plt.xlabel(\"Predicted Values\")\n",
    "print(\"Accuracy is {}\".format(accuracy_score(y_test, y_pred)*100))"
   ]
  },
  {
   "cell_type": "code",
   "execution_count": 38,
   "id": "66cca7c1",
   "metadata": {},
   "outputs": [
    {
     "data": {
      "text/plain": [
       "<matplotlib.collections.PathCollection at 0x1fc4ed1afd0>"
      ]
     },
     "execution_count": 38,
     "metadata": {},
     "output_type": "execute_result"
    },
    {
     "data": {
      "image/png": "[encoded data removed]",
      "text/plain": [
       "<Figure size 432x288 with 1 Axes>"
      ]
     },
     "metadata": {
      "needs_background": "light"
     },
     "output_type": "display_data"
    }
   ],
   "source": [
    "plt.scatter(y_test,y_pred)"
   ]
  },
  {
   "cell_type": "code",
   "execution_count": 39,
   "id": "7739efab",
   "metadata": {},
   "outputs": [
    {
     "data": {
      "image/png": "[encoded data removed]",
      "text/plain": [
       "<Figure size 432x288 with 1 Axes>"
      ]
     },
     "metadata": {
      "needs_background": "light"
     },
     "output_type": "display_data"
    }
   ],
   "source": [
    "sns.distplot((y_test),bins=50);"
   ]
  },
  {
   "cell_type": "code",
   "execution_count": 40,
   "id": "1aac3fea",
   "metadata": {},
   "outputs": [
    {
     "name": "stdout",
     "output_type": "stream",
     "text": [
      "MAE: 1.2121212121212122\n",
      "MSE: 2.0\n",
      "RMSE: 1.4142135623730951\n"
     ]
    }
   ],
   "source": [
    "from sklearn import metrics\n",
    "print('MAE:', metrics.mean_absolute_error(y_test, y_pred))\n",
    "print('MSE:', metrics.mean_squared_error(y_test, y_pred))\n",
    "print('RMSE:', np.sqrt(metrics.mean_squared_error(y_test, y_pred)))"
   ]
  },
  {
   "cell_type": "code",
   "execution_count": 41,
   "id": "ce19bbf4",
   "metadata": {},
   "outputs": [
    {
     "name": "stdout",
     "output_type": "stream",
     "text": [
      "Logistic Reression: \n",
      "Accuracy :0.4015151515151515\n",
      "              precision    recall  f1-score   support\n",
      "\n",
      "           0       0.00      0.00      0.00         7\n",
      "           1       0.33      0.45      0.38        11\n",
      "           2       0.06      0.14      0.08         7\n",
      "           3       0.00      0.00      0.00         5\n",
      "           4       0.00      0.00      0.00         3\n",
      "\n",
      "    accuracy                           0.18        33\n",
      "   macro avg       0.08      0.12      0.09        33\n",
      "weighted avg       0.12      0.18      0.15        33\n",
      "\n",
      "---------------------------------\n",
      "K-Nearest neighbours: \n",
      "Accuracy :0.5303030303030303\n",
      "              precision    recall  f1-score   support\n",
      "\n",
      "           0       1.00      0.14      0.25         7\n",
      "           1       0.37      0.64      0.47        11\n",
      "           2       0.20      0.29      0.24         7\n",
      "           3       0.00      0.00      0.00         5\n",
      "           4       0.00      0.00      0.00         3\n",
      "\n",
      "    accuracy                           0.30        33\n",
      "   macro avg       0.31      0.21      0.19        33\n",
      "weighted avg       0.38      0.30      0.26        33\n",
      "\n",
      "---------------------------------\n",
      "Decision Tree Classifier: \n",
      "Accuracy :0.9318181818181818\n",
      "              precision    recall  f1-score   support\n",
      "\n",
      "           0       0.00      0.00      0.00         7\n",
      "           1       0.17      0.18      0.17        11\n",
      "           2       0.09      0.14      0.11         7\n",
      "           3       0.33      0.20      0.25         5\n",
      "           4       0.00      0.00      0.00         3\n",
      "           5       0.00      0.00      0.00         0\n",
      "           6       0.00      0.00      0.00         0\n",
      "           7       0.00      0.00      0.00         0\n",
      "\n",
      "    accuracy                           0.12        33\n",
      "   macro avg       0.07      0.07      0.07        33\n",
      "weighted avg       0.13      0.12      0.12        33\n",
      "\n",
      "---------------------------------\n",
      "Support Vector machine: \n",
      "Accuracy :0.4090909090909091\n",
      "              precision    recall  f1-score   support\n",
      "\n",
      "           0       0.00      0.00      0.00         7\n",
      "           1       0.33      0.45      0.38        11\n",
      "           2       0.17      0.43      0.24         7\n",
      "           3       0.00      0.00      0.00         5\n",
      "           4       0.00      0.00      0.00         3\n",
      "\n",
      "    accuracy                           0.24        33\n",
      "   macro avg       0.10      0.18      0.12        33\n",
      "weighted avg       0.15      0.24      0.18        33\n",
      "\n",
      "---------------------------------\n",
      "Naive Bayes: \n",
      "Accuracy :0.3787878787878788\n",
      "              precision    recall  f1-score   support\n",
      "\n",
      "           0       0.00      0.00      0.00         7\n",
      "           1       0.42      0.45      0.43        11\n",
      "           2       0.00      0.00      0.00         7\n",
      "           3       0.33      0.40      0.36         5\n",
      "           4       0.00      0.00      0.00         3\n",
      "           5       0.00      0.00      0.00         0\n",
      "           6       0.00      0.00      0.00         0\n",
      "\n",
      "    accuracy                           0.21        33\n",
      "   macro avg       0.11      0.12      0.11        33\n",
      "weighted avg       0.19      0.21      0.20        33\n",
      "\n",
      "---------------------------------\n",
      "Random Forest: \n",
      "Accuracy :0.9318181818181818\n",
      "              precision    recall  f1-score   support\n",
      "\n",
      "           0       0.00      0.00      0.00         7\n",
      "           1       0.27      0.36      0.31        11\n",
      "           2       0.12      0.14      0.13         7\n",
      "           3       0.25      0.20      0.22         5\n",
      "           4       0.00      0.00      0.00         3\n",
      "           5       0.00      0.00      0.00         0\n",
      "           6       0.00      0.00      0.00         0\n",
      "           7       0.00      0.00      0.00         0\n",
      "\n",
      "    accuracy                           0.18        33\n",
      "   macro avg       0.08      0.09      0.08        33\n",
      "weighted avg       0.15      0.18      0.16        33\n",
      "\n",
      "---------------------------------\n",
      "Ridge classifier: \n",
      "Accuracy :0.4166666666666667\n",
      "              precision    recall  f1-score   support\n",
      "\n",
      "           0       0.00      0.00      0.00         7\n",
      "           1       0.30      0.55      0.39        11\n",
      "           2       0.00      0.00      0.00         7\n",
      "           3       0.50      0.20      0.29         5\n",
      "           4       0.00      0.00      0.00         3\n",
      "\n",
      "    accuracy                           0.21        33\n",
      "   macro avg       0.16      0.15      0.13        33\n",
      "weighted avg       0.18      0.21      0.17        33\n",
      "\n",
      "---------------------------------\n"
     ]
    }
   ],
   "source": [
    "models={\n",
    "    'Logistic Reression':LogisticRegression(),\n",
    "    'K-Nearest neighbours':KNeighborsClassifier(),\n",
    "    'Decision Tree Classifier':DecisionTreeClassifier(),\n",
    "    'Support Vector machine':SVC(),\n",
    "    'Naive Bayes':GaussianNB(),\n",
    "    'Random Forest':RandomForestClassifier(),\n",
    "    'Ridge classifier':RidgeClassifier()\n",
    "}\n",
    "y_predicitions=[]\n",
    "estimators=[]\n",
    "y_accu=[]\n",
    "x_graph=[]\n",
    "for name,model in  models.items():\n",
    "    print(f'{name}: ')\n",
    "    x_graph.append(name)\n",
    "    estimators.append((name, model))\n",
    "    model.fit(X_train,y_train)\n",
    "    y_pred=model.predict(X_test)\n",
    "    y_predicitions.append(y_pred)\n",
    "    print(f'Accuracy :{accuracy_score(y_train,model.predict(X_train))}')\n",
    "\n",
    "    y_accu.append(accuracy_score(y_train,model.predict(X_train))*100)\n",
    "    '''\n",
    "    cm=confusion_matrix(y_test,y_pred)\n",
    "    plt.figure(figsize=(9,5))\n",
    "    plt.title(f\"Confusion Matrix for {name}\")\n",
    "    sns.heatmap(cm, annot=True,fmt='d', cmap='Blues')\n",
    "    plt.ylabel(\"Actual Values\")\n",
    "    plt.xlabel(\"Predicted Values\")\n",
    "    print(f'Recall: {recall_score(y_test,y_pred)}')\n",
    "    print(f'precision: {precision_score(y_test,y_pred)}')\n",
    "    print(f'F1-score: {f1_score(y_test,y_pred)}')\n",
    "    print(f'Fbeta-score: {fbeta_score(y_test,y_pred,beta=0.5)}')\n",
    "    '''\n",
    "    print(classification_report(y_test,y_pred, ))\n",
    "    print('-'*33)"
   ]
  },
  {
   "cell_type": "code",
   "execution_count": 42,
   "id": "ff4e81e6",
   "metadata": {},
   "outputs": [],
   "source": [
    "def show_values(axs, orient=\"v\", space=.01):\n",
    "    def _single(ax):\n",
    "        if orient == \"v\":\n",
    "            for p in ax.patches:\n",
    "                _x = p.get_x() + p.get_width() / 2\n",
    "                _y = p.get_y() + p.get_height() + (p.get_height()*0.01)\n",
    "                value = '{:.1f}'.format(p.get_height())\n",
    "                ax.text(_x, _y, value, ha=\"center\") \n",
    "        elif orient == \"h\":\n",
    "            for p in ax.patches:\n",
    "                _x = p.get_x() + p.get_width() + float(space)\n",
    "                _y = p.get_y() + p.get_height() - (p.get_height()*0.5)\n",
    "                value = '{:.1f}'.format(p.get_width())\n",
    "                ax.text(_x, _y, value, ha=\"left\")\n",
    "\n",
    "    if isinstance(axs, np.ndarray):\n",
    "        for idx, ax in np.ndenumerate(axs):\n",
    "            _single(ax)\n",
    "    else:\n",
    "        _single(axs)"
   ]
  },
  {
   "cell_type": "code",
   "execution_count": 43,
   "id": "529a3b78",
   "metadata": {},
   "outputs": [
    {
     "data": {
      "text/plain": [
       "Text(0.5, 1.03, 'Model Comparison - Model Accuracy')"
      ]
     },
     "execution_count": 43,
     "metadata": {},
     "output_type": "execute_result"
    },
    {
     "data": {
      "image/png": "[encoded data removed]",
      "text/plain": [
       "<Figure size 432x288 with 1 Axes>"
      ]
     },
     "metadata": {
      "needs_background": "light"
     },
     "output_type": "display_data"
    }
   ],
   "source": [
    "plt.xticks(rotation=60)\n",
    "ax=sns.barplot(x=x_graph ,y=y_accu, errwidth=0)\n",
    "show_values(ax)\n",
    "plt.title('Model Comparison - Model Accuracy', fontname='monospace', y=1.03)"
   ]
  },
  {
   "cell_type": "markdown",
   "id": "c4d56b8c",
   "metadata": {},
   "source": [
    "## Ensemble Models"
   ]
  },
  {
   "cell_type": "markdown",
   "id": "bb78ebd2",
   "metadata": {},
   "source": [
    "#### Basic ensemble methods\n",
    "\n",
    "#### Using Avegering"
   ]
  },
  {
   "cell_type": "code",
   "execution_count": 44,
   "id": "0f607ac3",
   "metadata": {},
   "outputs": [
    {
     "name": "stdout",
     "output_type": "stream",
     "text": [
      "              precision    recall  f1-score   support\n",
      "\n",
      "           0       0.00      0.00      0.00         7\n",
      "           1       0.33      0.36      0.35        11\n",
      "           2       0.14      0.29      0.19         7\n",
      "           3       0.00      0.00      0.00         5\n",
      "           4       0.00      0.00      0.00         3\n",
      "\n",
      "    accuracy                           0.18        33\n",
      "   macro avg       0.10      0.13      0.11        33\n",
      "weighted avg       0.14      0.18      0.16        33\n",
      "\n",
      "Accuracy :41.66666666666667\n"
     ]
    }
   ],
   "source": [
    "pred_final=[0]*len(y_predicitions[0])\n",
    "num=len(y_predicitions)\n",
    "for i in range(num):\n",
    "  pred_final+=y_predicitions[i]\n",
    "pred_final=pred_final/num\n",
    "pred_final=np.round_(pred_final, 0)\n",
    "pred_final=pred_final.astype(int)\n",
    "print(classification_report(y_test,pred_final, ))\n",
    "print(f'Accuracy :{accuracy_score(y_train,model.predict(X_train))*100}')"
   ]
  },
  {
   "cell_type": "code",
   "execution_count": 45,
   "id": "7e6320e6",
   "metadata": {},
   "outputs": [
    {
     "name": "stdout",
     "output_type": "stream",
     "text": [
      "Accuracy :0.2727272727272727\n"
     ]
    }
   ],
   "source": [
    "model_1 = DecisionTreeClassifier()\n",
    "model_2 = SVC()\n",
    "model_3 = GaussianNB()\n",
    " \n",
    "# training all the model on the training dataset\n",
    "model_1.fit(X_train_scaled, y_train)\n",
    "model_2.fit(X_train_scaled, y_train)\n",
    "model_3.fit(X_train_scaled, y_train)\n",
    " \n",
    "# predicting the output on the validation dataset\n",
    "pred_1 = model_1.predict(X_test_scaled)\n",
    "pred_2 = model_2.predict(X_test_scaled)\n",
    "pred_3 = model_3.predict(X_test_scaled)\n",
    " \n",
    "# final prediction after averaging on the prediction of all 3 models\n",
    "pred_final =((pred_1+pred_2+pred_3)/3.0).astype(int)\n",
    "\n",
    "# printing the mean squared error between real value and predicted value\n",
    "print(f'Accuracy :{accuracy_score(y_test,pred_final)}')"
   ]
  },
  {
   "cell_type": "code",
   "execution_count": 46,
   "id": "1f704896",
   "metadata": {},
   "outputs": [
    {
     "name": "stdout",
     "output_type": "stream",
     "text": [
      "Accuracy :0.24242424242424243\n"
     ]
    }
   ],
   "source": [
    "# initializing all the model objects with default parameters\n",
    "model_1 = LogisticRegression()\n",
    "model_2 = GaussianNB()\n",
    "model_3 = RandomForestClassifier()\n",
    "\n",
    "# Making the final model using voting classifier\n",
    "final_model = VotingClassifier(\n",
    "\testimators=[('lr', model_1), ('gnb', model_2), ('rf', model_3)], voting='hard')\n",
    "\n",
    "# training all the model on the train dataset\n",
    "final_model.fit(X_train_scaled, y_train)\n",
    "\n",
    "# predicting the output on the test dataset\n",
    "pred_final = final_model.predict(X_test_scaled)\n",
    "\n",
    "print(f'Accuracy :{accuracy_score(y_test,pred_final)}')"
   ]
  },
  {
   "cell_type": "markdown",
   "id": "bf3f85da",
   "metadata": {},
   "source": [
    "### Using Max voting"
   ]
  },
  {
   "cell_type": "code",
   "execution_count": 47,
   "id": "af9dca56",
   "metadata": {},
   "outputs": [
    {
     "name": "stdout",
     "output_type": "stream",
     "text": [
      "Accuracy :0.24242424242424243\n"
     ]
    }
   ],
   "source": [
    "model_1 = LogisticRegression()\n",
    "model_2 = GaussianNB()\n",
    "model_3 = RandomForestClassifier()\n",
    "\n",
    "# Making the final model using voting classifier\n",
    "final_model = VotingClassifier(\n",
    "\testimators=[('lr', model_1), ('gnb', model_2), ('rf', model_3)], voting='hard')\n",
    "\n",
    "# training all the model on the train dataset\n",
    "final_model.fit(X_train_scaled, y_train)\n",
    "\n",
    "# predicting the output on the test dataset\n",
    "pred_final = final_model.predict(X_test_scaled)\n",
    "\n",
    "print(f'Accuracy :{accuracy_score(y_test,pred_final)}')"
   ]
  },
  {
   "cell_type": "markdown",
   "id": "f0d72bf5",
   "metadata": {},
   "source": [
    "## Hypothesis Testing"
   ]
  },
  {
   "cell_type": "markdown",
   "id": "89d7f67b",
   "metadata": {},
   "source": [
    "H0: Null hypothesis states that the mean value of target variable in training dataset is same as the mean value of predicted value of test sample."
   ]
  },
  {
   "cell_type": "markdown",
   "id": "0979d07a",
   "metadata": {},
   "source": [
    "Ha:It states that the mean value of target variable in training dataset defers largely compared to the mean value of predicted value of test sample"
   ]
  },
  {
   "cell_type": "code",
   "execution_count": 48,
   "id": "7e721baa",
   "metadata": {},
   "outputs": [],
   "source": [
    "mean_value = np.mean(y_train)"
   ]
  },
  {
   "cell_type": "code",
   "execution_count": 49,
   "id": "cd6c85b4",
   "metadata": {},
   "outputs": [
    {
     "data": {
      "text/html": [
       "<div>\n",
       "<style scoped>\n",
       "    .dataframe tbody tr th:only-of-type {\n",
       "        vertical-align: middle;\n",
       "    }\n",
       "\n",
       "    .dataframe tbody tr th {\n",
       "        vertical-align: top;\n",
       "    }\n",
       "\n",
       "    .dataframe thead th {\n",
       "        text-align: right;\n",
       "    }\n",
       "</style>\n",
       "<table border=\"1\" class=\"dataframe\">\n",
       "  <thead>\n",
       "    <tr style=\"text-align: right;\">\n",
       "      <th></th>\n",
       "      <th>device_id</th>\n",
       "      <th>Item_Name</th>\n",
       "      <th>Total_Price</th>\n",
       "      <th>Price_For_Item</th>\n",
       "      <th>Quantity</th>\n",
       "    </tr>\n",
       "  </thead>\n",
       "  <tbody>\n",
       "    <tr>\n",
       "      <th>0</th>\n",
       "      <td>esp32</td>\n",
       "      <td>3</td>\n",
       "      <td>695.0</td>\n",
       "      <td>55</td>\n",
       "      <td>7</td>\n",
       "    </tr>\n",
       "    <tr>\n",
       "      <th>2</th>\n",
       "      <td>esp32</td>\n",
       "      <td>1</td>\n",
       "      <td>295.0</td>\n",
       "      <td>40</td>\n",
       "      <td>3</td>\n",
       "    </tr>\n",
       "    <tr>\n",
       "      <th>5</th>\n",
       "      <td>esp32</td>\n",
       "      <td>3</td>\n",
       "      <td>375.0</td>\n",
       "      <td>55</td>\n",
       "      <td>1</td>\n",
       "    </tr>\n",
       "    <tr>\n",
       "      <th>6</th>\n",
       "      <td>esp32</td>\n",
       "      <td>2</td>\n",
       "      <td>365.0</td>\n",
       "      <td>200</td>\n",
       "      <td>1</td>\n",
       "    </tr>\n",
       "    <tr>\n",
       "      <th>7</th>\n",
       "      <td>esp32</td>\n",
       "      <td>0</td>\n",
       "      <td>85.0</td>\n",
       "      <td>30</td>\n",
       "      <td>1</td>\n",
       "    </tr>\n",
       "    <tr>\n",
       "      <th>...</th>\n",
       "      <td>...</td>\n",
       "      <td>...</td>\n",
       "      <td>...</td>\n",
       "      <td>...</td>\n",
       "      <td>...</td>\n",
       "    </tr>\n",
       "    <tr>\n",
       "      <th>527</th>\n",
       "      <td>esp32</td>\n",
       "      <td>3</td>\n",
       "      <td>610.0</td>\n",
       "      <td>55</td>\n",
       "      <td>6</td>\n",
       "    </tr>\n",
       "    <tr>\n",
       "      <th>537</th>\n",
       "      <td>esp32</td>\n",
       "      <td>3</td>\n",
       "      <td>880.0</td>\n",
       "      <td>55</td>\n",
       "      <td>0</td>\n",
       "    </tr>\n",
       "    <tr>\n",
       "      <th>545</th>\n",
       "      <td>esp32</td>\n",
       "      <td>3</td>\n",
       "      <td>340.0</td>\n",
       "      <td>55</td>\n",
       "      <td>4</td>\n",
       "    </tr>\n",
       "    <tr>\n",
       "      <th>549</th>\n",
       "      <td>esp32</td>\n",
       "      <td>3</td>\n",
       "      <td>395.0</td>\n",
       "      <td>55</td>\n",
       "      <td>3</td>\n",
       "    </tr>\n",
       "    <tr>\n",
       "      <th>550</th>\n",
       "      <td>esp32</td>\n",
       "      <td>3</td>\n",
       "      <td>305.0</td>\n",
       "      <td>55</td>\n",
       "      <td>3</td>\n",
       "    </tr>\n",
       "  </tbody>\n",
       "</table>\n",
       "<p>165 rows × 5 columns</p>\n",
       "</div>"
      ],
      "text/plain": [
       "    device_id  Item_Name  Total_Price  Price_For_Item  Quantity\n",
       "0       esp32          3        695.0              55         7\n",
       "2       esp32          1        295.0              40         3\n",
       "5       esp32          3        375.0              55         1\n",
       "6       esp32          2        365.0             200         1\n",
       "7       esp32          0         85.0              30         1\n",
       "..        ...        ...          ...             ...       ...\n",
       "527     esp32          3        610.0              55         6\n",
       "537     esp32          3        880.0              55         0\n",
       "545     esp32          3        340.0              55         4\n",
       "549     esp32          3        395.0              55         3\n",
       "550     esp32          3        305.0              55         3\n",
       "\n",
       "[165 rows x 5 columns]"
      ]
     },
     "execution_count": 49,
     "metadata": {},
     "output_type": "execute_result"
    }
   ],
   "source": [
    "df"
   ]
  },
  {
   "cell_type": "code",
   "execution_count": 50,
   "id": "a8e68c35",
   "metadata": {},
   "outputs": [
    {
     "data": {
      "text/plain": [
       "196    2\n",
       "56     2\n",
       "496    6\n",
       "201    1\n",
       "42     2\n",
       "      ..\n",
       "23     1\n",
       "259    1\n",
       "150    1\n",
       "316    3\n",
       "94     1\n",
       "Name: Quantity, Length: 132, dtype: int64"
      ]
     },
     "execution_count": 50,
     "metadata": {},
     "output_type": "execute_result"
    }
   ],
   "source": [
    "y_train"
   ]
  },
  {
   "cell_type": "code",
   "execution_count": 51,
   "id": "5342d542",
   "metadata": {},
   "outputs": [
    {
     "data": {
      "text/plain": [
       "2.0833333333333335"
      ]
     },
     "execution_count": 51,
     "metadata": {},
     "output_type": "execute_result"
    }
   ],
   "source": [
    "mean_value"
   ]
  },
  {
   "cell_type": "code",
   "execution_count": 52,
   "id": "aff269a9",
   "metadata": {},
   "outputs": [],
   "source": [
    "sample_std = np.std(y_test)"
   ]
  },
  {
   "cell_type": "code",
   "execution_count": 53,
   "id": "2f179233",
   "metadata": {},
   "outputs": [
    {
     "data": {
      "text/plain": [
       "1.2316606929031255"
      ]
     },
     "execution_count": 53,
     "metadata": {},
     "output_type": "execute_result"
    }
   ],
   "source": [
    "sample_std"
   ]
  },
  {
   "cell_type": "code",
   "execution_count": 54,
   "id": "46b093bb",
   "metadata": {},
   "outputs": [],
   "source": [
    "y_tst_mean = np.mean(y_pred)"
   ]
  },
  {
   "cell_type": "code",
   "execution_count": 55,
   "id": "48997a5d",
   "metadata": {},
   "outputs": [
    {
     "data": {
      "text/plain": [
       "1.4545454545454546"
      ]
     },
     "execution_count": 55,
     "metadata": {},
     "output_type": "execute_result"
    }
   ],
   "source": [
    "y_tst_mean"
   ]
  },
  {
   "cell_type": "code",
   "execution_count": 56,
   "id": "bfea8d34",
   "metadata": {},
   "outputs": [],
   "source": [
    "n = 165\n",
    "degrees_of_freedom = n-1\n",
    "xbar = y_tst_mean\n",
    "mu = mean_value\n",
    "s = sample_std\n",
    "alpha = 0.507"
   ]
  },
  {
   "cell_type": "code",
   "execution_count": 57,
   "id": "e09d38a7",
   "metadata": {},
   "outputs": [
    {
     "data": {
      "text/plain": [
       "-6.557752952753427"
      ]
     },
     "execution_count": 57,
     "metadata": {},
     "output_type": "execute_result"
    }
   ],
   "source": [
    "t = (xbar - mu)/(s / np.sqrt(n))\n",
    "t"
   ]
  },
  {
   "cell_type": "code",
   "execution_count": 58,
   "id": "21e70729",
   "metadata": {},
   "outputs": [
    {
     "data": {
      "text/plain": [
       "-0.6649757962510469"
      ]
     },
     "execution_count": 58,
     "metadata": {},
     "output_type": "execute_result"
    }
   ],
   "source": [
    "import numpy as np\n",
    "import scipy.stats as st\n",
    "t_critical = st.t.ppf(alpha/2, degrees_of_freedom)\n",
    "t_critical"
   ]
  },
  {
   "cell_type": "code",
   "execution_count": 59,
   "id": "cf203ec8",
   "metadata": {},
   "outputs": [
    {
     "name": "stdout",
     "output_type": "stream",
     "text": [
      "Null hypothesis cannot be rejected\n"
     ]
    }
   ],
   "source": [
    "if (abs(t) > abs(t_critical)): #Absolute value taken as the it's a two-tailed test and the original t_critical value might be negative\n",
    "    print(\"Null hypothesis cannot be rejected\")\n",
    "else:\n",
    "    print(\"Reject null hypothesis\")"
   ]
  },
  {
   "cell_type": "code",
   "execution_count": null,
   "id": "5cc12239",
   "metadata": {},
   "outputs": [],
   "source": []
  }
 ],
 "metadata": {
  "kernelspec": {
   "display_name": "Python 3 (ipykernel)",
   "language": "python",
   "name": "python3"
  },
  "language_info": {
   "codemirror_mode": {
    "name": "ipython",
    "version": 3
   },
   "file_extension": ".py",
   "mimetype": "text/x-python",
   "name": "python",
   "nbconvert_exporter": "python",
   "pygments_lexer": "ipython3",
   "version": "3.9.7"
  }
 },
 "nbformat": 4,
 "nbformat_minor": 5
}
